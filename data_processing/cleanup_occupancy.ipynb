{
 "cells": [
  {
   "cell_type": "code",
   "execution_count": 21,
   "metadata": {},
   "outputs": [],
   "source": [
    "import pandas as pd"
   ]
  },
  {
   "cell_type": "code",
   "execution_count": 22,
   "metadata": {},
   "outputs": [
    {
     "data": {
      "text/plain": [
       "Unnamed: 0                         12657\n",
       "start          2018-01-09 10:00:00-05:00\n",
       "end            2018-01-09 10:10:00-05:00\n",
       "day of week                      Tuesday\n",
       "date                               01-09\n",
       "time                            10:00:00\n",
       "occupancy                     -0.0220264\n",
       "Name: 1789, dtype: object"
      ]
     },
     "execution_count": 22,
     "metadata": {},
     "output_type": "execute_result"
    }
   ],
   "source": [
    "final_df = pd.read_csv('oakland_true_occupancy.csv')\n",
    "final_df"
   ]
  },
  {
   "cell_type": "code",
   "execution_count": 23,
   "metadata": {},
   "outputs": [
    {
     "name": "stderr",
     "output_type": "stream",
     "text": [
      "/Library/Frameworks/Python.framework/Versions/3.7/lib/python3.7/site-packages/ipykernel_launcher.py:6: SettingWithCopyWarning: \n",
      "A value is trying to be set on a copy of a slice from a DataFrame\n",
      "\n",
      "See the caveats in the documentation: https://pandas.pydata.org/pandas-docs/stable/user_guide/indexing.html#returning-a-view-versus-a-copy\n",
      "  \n"
     ]
    },
    {
     "data": {
      "text/plain": [
       "Unnamed: 0                         12657\n",
       "start          2018-01-09 10:00:00-05:00\n",
       "end            2018-01-09 10:10:00-05:00\n",
       "day of week                      Tuesday\n",
       "date                               01-09\n",
       "time                            10:00:00\n",
       "occupancy                              0\n",
       "Name: 1789, dtype: object"
      ]
     },
     "execution_count": 23,
     "metadata": {},
     "output_type": "execute_result"
    }
   ],
   "source": [
    "#forgot to add this part to the other file so i had to do it here which lowkey sucks but oh well...\n",
    "#its added now for the future :)\n",
    "\n",
    "final_df['occupancy'] = final_df['occupancy'].round(3)\n",
    "temp = final_df['occupancy']\n",
    "temp[temp < 0] = 0\n",
    "final_df['occupancy'] = temp #this temp stuff is ugly but pandas syntax is uglier\n",
    "final_df"
   ]
  },
  {
   "cell_type": "code",
   "execution_count": 25,
   "metadata": {},
   "outputs": [],
   "source": [
    "final_df.to_csv('oakland_true_occupancy.csv')"
   ]
  },
  {
   "cell_type": "code",
   "execution_count": null,
   "metadata": {},
   "outputs": [],
   "source": []
  }
 ],
 "metadata": {
  "kernelspec": {
   "display_name": "Python 3",
   "language": "python",
   "name": "python3"
  },
  "language_info": {
   "codemirror_mode": {
    "name": "ipython",
    "version": 3
   },
   "file_extension": ".py",
   "mimetype": "text/x-python",
   "name": "python",
   "nbconvert_exporter": "python",
   "pygments_lexer": "ipython3",
   "version": "3.7.4"
  }
 },
 "nbformat": 4,
 "nbformat_minor": 4
}
