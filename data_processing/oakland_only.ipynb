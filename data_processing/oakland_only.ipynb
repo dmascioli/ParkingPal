{
 "metadata": {
  "language_info": {
   "codemirror_mode": {
    "name": "ipython",
    "version": 3
   },
   "file_extension": ".py",
   "mimetype": "text/x-python",
   "name": "python",
   "nbconvert_exporter": "python",
   "pygments_lexer": "ipython3",
   "version": "3.8.5-final"
  },
  "orig_nbformat": 2,
  "kernelspec": {
   "name": "python38532bitvenvvenv49f7bfddab294f50954f2d8e4d869889",
   "display_name": "Python 3.8.5 32-bit ('venv': venv)"
  }
 },
 "nbformat": 4,
 "nbformat_minor": 2,
 "cells": [
  {
   "cell_type": "code",
   "execution_count": 34,
   "metadata": {},
   "outputs": [],
   "source": [
    "import pandas as pd\n",
    "full_sample = pd.read_csv(\"test_data.csv\")"
   ]
  },
  {
   "cell_type": "code",
   "execution_count": 35,
   "metadata": {},
   "outputs": [
    {
     "output_type": "execute_result",
     "data": {
      "text/plain": "            id                             zone                start  \\\n0         5037  335 - Friendship Cedarville Lot  2014-01-04T11:40:00   \n1         5038          341 - 18th & Sidney Lot  2014-01-04T11:40:00   \n2         5039            342 - East Carson Lot  2014-01-04T11:40:00   \n3         5040          343 - 19th & Carson Lot  2014-01-04T11:40:00   \n4         5041          344 - 18th & Carson Lot  2014-01-04T11:40:00   \n...        ...                              ...                  ...   \n199995  201053           424 - Technology Drive  2014-04-08T12:40:00   \n199996  201054         304 - Tamello Beatty Lot  2014-04-08T12:50:00   \n199997  201055         308 - Harvard Beatty Lot  2014-04-08T12:50:00   \n199998  201056        321 - Beacon Bartlett Lot  2014-04-08T12:50:00   \n199999  201057           322 - Forbes Shady Lot  2014-04-08T12:50:00   \n\n                        end            utc_start  meter_transactions  \\\n0       2014-01-04T11:50:00  2014-01-04T16:40:00                   2   \n1       2014-01-04T11:50:00  2014-01-04T16:40:00                   2   \n2       2014-01-04T11:50:00  2014-01-04T16:40:00                   1   \n3       2014-01-04T11:50:00  2014-01-04T16:40:00                   2   \n4       2014-01-04T11:50:00  2014-01-04T16:40:00                   7   \n...                     ...                  ...                 ...   \n199995  2014-04-08T12:50:00  2014-04-08T16:40:00                   4   \n199996  2014-04-08T13:00:00  2014-04-08T16:50:00                   1   \n199997  2014-04-08T13:00:00  2014-04-08T16:50:00                   2   \n199998  2014-04-08T13:00:00  2014-04-08T16:50:00                   2   \n199999  2014-04-08T13:00:00  2014-04-08T16:50:00                   6   \n\n        meter_payments  mobile_transactions  mobile_payments  \n0                 1.00                    0              0.0  \n1                 1.50                    0              0.0  \n2                 7.00                    0              0.0  \n3                 1.25                    0              0.0  \n4                12.00                    0              0.0  \n...                ...                  ...              ...  \n199995           32.00                    0              0.0  \n199996            3.75                    0              0.0  \n199997            2.00                    0              0.0  \n199998            3.25                    0              0.0  \n199999            5.50                    0              0.0  \n\n[200000 rows x 9 columns]",
      "text/html": "<div>\n<style scoped>\n    .dataframe tbody tr th:only-of-type {\n        vertical-align: middle;\n    }\n\n    .dataframe tbody tr th {\n        vertical-align: top;\n    }\n\n    .dataframe thead th {\n        text-align: right;\n    }\n</style>\n<table border=\"1\" class=\"dataframe\">\n  <thead>\n    <tr style=\"text-align: right;\">\n      <th></th>\n      <th>id</th>\n      <th>zone</th>\n      <th>start</th>\n      <th>end</th>\n      <th>utc_start</th>\n      <th>meter_transactions</th>\n      <th>meter_payments</th>\n      <th>mobile_transactions</th>\n      <th>mobile_payments</th>\n    </tr>\n  </thead>\n  <tbody>\n    <tr>\n      <th>0</th>\n      <td>5037</td>\n      <td>335 - Friendship Cedarville Lot</td>\n      <td>2014-01-04T11:40:00</td>\n      <td>2014-01-04T11:50:00</td>\n      <td>2014-01-04T16:40:00</td>\n      <td>2</td>\n      <td>1.00</td>\n      <td>0</td>\n      <td>0.0</td>\n    </tr>\n    <tr>\n      <th>1</th>\n      <td>5038</td>\n      <td>341 - 18th &amp; Sidney Lot</td>\n      <td>2014-01-04T11:40:00</td>\n      <td>2014-01-04T11:50:00</td>\n      <td>2014-01-04T16:40:00</td>\n      <td>2</td>\n      <td>1.50</td>\n      <td>0</td>\n      <td>0.0</td>\n    </tr>\n    <tr>\n      <th>2</th>\n      <td>5039</td>\n      <td>342 - East Carson Lot</td>\n      <td>2014-01-04T11:40:00</td>\n      <td>2014-01-04T11:50:00</td>\n      <td>2014-01-04T16:40:00</td>\n      <td>1</td>\n      <td>7.00</td>\n      <td>0</td>\n      <td>0.0</td>\n    </tr>\n    <tr>\n      <th>3</th>\n      <td>5040</td>\n      <td>343 - 19th &amp; Carson Lot</td>\n      <td>2014-01-04T11:40:00</td>\n      <td>2014-01-04T11:50:00</td>\n      <td>2014-01-04T16:40:00</td>\n      <td>2</td>\n      <td>1.25</td>\n      <td>0</td>\n      <td>0.0</td>\n    </tr>\n    <tr>\n      <th>4</th>\n      <td>5041</td>\n      <td>344 - 18th &amp; Carson Lot</td>\n      <td>2014-01-04T11:40:00</td>\n      <td>2014-01-04T11:50:00</td>\n      <td>2014-01-04T16:40:00</td>\n      <td>7</td>\n      <td>12.00</td>\n      <td>0</td>\n      <td>0.0</td>\n    </tr>\n    <tr>\n      <th>...</th>\n      <td>...</td>\n      <td>...</td>\n      <td>...</td>\n      <td>...</td>\n      <td>...</td>\n      <td>...</td>\n      <td>...</td>\n      <td>...</td>\n      <td>...</td>\n    </tr>\n    <tr>\n      <th>199995</th>\n      <td>201053</td>\n      <td>424 - Technology Drive</td>\n      <td>2014-04-08T12:40:00</td>\n      <td>2014-04-08T12:50:00</td>\n      <td>2014-04-08T16:40:00</td>\n      <td>4</td>\n      <td>32.00</td>\n      <td>0</td>\n      <td>0.0</td>\n    </tr>\n    <tr>\n      <th>199996</th>\n      <td>201054</td>\n      <td>304 - Tamello Beatty Lot</td>\n      <td>2014-04-08T12:50:00</td>\n      <td>2014-04-08T13:00:00</td>\n      <td>2014-04-08T16:50:00</td>\n      <td>1</td>\n      <td>3.75</td>\n      <td>0</td>\n      <td>0.0</td>\n    </tr>\n    <tr>\n      <th>199997</th>\n      <td>201055</td>\n      <td>308 - Harvard Beatty Lot</td>\n      <td>2014-04-08T12:50:00</td>\n      <td>2014-04-08T13:00:00</td>\n      <td>2014-04-08T16:50:00</td>\n      <td>2</td>\n      <td>2.00</td>\n      <td>0</td>\n      <td>0.0</td>\n    </tr>\n    <tr>\n      <th>199998</th>\n      <td>201056</td>\n      <td>321 - Beacon Bartlett Lot</td>\n      <td>2014-04-08T12:50:00</td>\n      <td>2014-04-08T13:00:00</td>\n      <td>2014-04-08T16:50:00</td>\n      <td>2</td>\n      <td>3.25</td>\n      <td>0</td>\n      <td>0.0</td>\n    </tr>\n    <tr>\n      <th>199999</th>\n      <td>201057</td>\n      <td>322 - Forbes Shady Lot</td>\n      <td>2014-04-08T12:50:00</td>\n      <td>2014-04-08T13:00:00</td>\n      <td>2014-04-08T16:50:00</td>\n      <td>6</td>\n      <td>5.50</td>\n      <td>0</td>\n      <td>0.0</td>\n    </tr>\n  </tbody>\n</table>\n<p>200000 rows × 9 columns</p>\n</div>"
     },
     "metadata": {},
     "execution_count": 35
    }
   ],
   "source": [
    "full_sample"
   ]
  },
  {
   "cell_type": "code",
   "execution_count": 36,
   "metadata": {},
   "outputs": [
    {
     "output_type": "execute_result",
     "data": {
      "text/plain": "            id             zone                start                  end  \\\n13        5050  407 - Oakland 1  2014-01-04T11:40:00  2014-01-04T11:50:00   \n14        5051  408 - Oakland 2  2014-01-04T11:40:00  2014-01-04T11:50:00   \n15        5052  409 - Oakland 3  2014-01-04T11:40:00  2014-01-04T11:50:00   \n16        5053  410 - Oakland 4  2014-01-04T11:40:00  2014-01-04T11:50:00   \n47        5084  407 - Oakland 1  2014-01-04T11:50:00  2014-01-04T12:00:00   \n...        ...              ...                  ...                  ...   \n199950  201008  410 - Oakland 4  2014-04-08T12:30:00  2014-04-08T12:40:00   \n199983  201041  407 - Oakland 1  2014-04-08T12:40:00  2014-04-08T12:50:00   \n199984  201042  408 - Oakland 2  2014-04-08T12:40:00  2014-04-08T12:50:00   \n199985  201043  409 - Oakland 3  2014-04-08T12:40:00  2014-04-08T12:50:00   \n199986  201044  410 - Oakland 4  2014-04-08T12:40:00  2014-04-08T12:50:00   \n\n                  utc_start  meter_transactions  meter_payments  \\\n13      2014-01-04T16:40:00                   9           27.25   \n14      2014-01-04T16:40:00                  12           17.50   \n15      2014-01-04T16:40:00                  11           38.25   \n16      2014-01-04T16:40:00                  20           37.50   \n47      2014-01-04T16:50:00                  13           27.75   \n...                     ...                 ...             ...   \n199950  2014-04-08T16:30:00                  24          120.50   \n199983  2014-04-08T16:40:00                  21           56.75   \n199984  2014-04-08T16:40:00                  45          173.50   \n199985  2014-04-08T16:40:00                  38          122.50   \n199986  2014-04-08T16:40:00                  31          125.29   \n\n        mobile_transactions  mobile_payments  \n13                        0              0.0  \n14                        0              0.0  \n15                        0              0.0  \n16                        0              0.0  \n47                        0              0.0  \n...                     ...              ...  \n199950                    0              0.0  \n199983                    0              0.0  \n199984                    0              0.0  \n199985                    0              0.0  \n199986                    0              0.0  \n\n[25443 rows x 9 columns]",
      "text/html": "<div>\n<style scoped>\n    .dataframe tbody tr th:only-of-type {\n        vertical-align: middle;\n    }\n\n    .dataframe tbody tr th {\n        vertical-align: top;\n    }\n\n    .dataframe thead th {\n        text-align: right;\n    }\n</style>\n<table border=\"1\" class=\"dataframe\">\n  <thead>\n    <tr style=\"text-align: right;\">\n      <th></th>\n      <th>id</th>\n      <th>zone</th>\n      <th>start</th>\n      <th>end</th>\n      <th>utc_start</th>\n      <th>meter_transactions</th>\n      <th>meter_payments</th>\n      <th>mobile_transactions</th>\n      <th>mobile_payments</th>\n    </tr>\n  </thead>\n  <tbody>\n    <tr>\n      <th>13</th>\n      <td>5050</td>\n      <td>407 - Oakland 1</td>\n      <td>2014-01-04T11:40:00</td>\n      <td>2014-01-04T11:50:00</td>\n      <td>2014-01-04T16:40:00</td>\n      <td>9</td>\n      <td>27.25</td>\n      <td>0</td>\n      <td>0.0</td>\n    </tr>\n    <tr>\n      <th>14</th>\n      <td>5051</td>\n      <td>408 - Oakland 2</td>\n      <td>2014-01-04T11:40:00</td>\n      <td>2014-01-04T11:50:00</td>\n      <td>2014-01-04T16:40:00</td>\n      <td>12</td>\n      <td>17.50</td>\n      <td>0</td>\n      <td>0.0</td>\n    </tr>\n    <tr>\n      <th>15</th>\n      <td>5052</td>\n      <td>409 - Oakland 3</td>\n      <td>2014-01-04T11:40:00</td>\n      <td>2014-01-04T11:50:00</td>\n      <td>2014-01-04T16:40:00</td>\n      <td>11</td>\n      <td>38.25</td>\n      <td>0</td>\n      <td>0.0</td>\n    </tr>\n    <tr>\n      <th>16</th>\n      <td>5053</td>\n      <td>410 - Oakland 4</td>\n      <td>2014-01-04T11:40:00</td>\n      <td>2014-01-04T11:50:00</td>\n      <td>2014-01-04T16:40:00</td>\n      <td>20</td>\n      <td>37.50</td>\n      <td>0</td>\n      <td>0.0</td>\n    </tr>\n    <tr>\n      <th>47</th>\n      <td>5084</td>\n      <td>407 - Oakland 1</td>\n      <td>2014-01-04T11:50:00</td>\n      <td>2014-01-04T12:00:00</td>\n      <td>2014-01-04T16:50:00</td>\n      <td>13</td>\n      <td>27.75</td>\n      <td>0</td>\n      <td>0.0</td>\n    </tr>\n    <tr>\n      <th>...</th>\n      <td>...</td>\n      <td>...</td>\n      <td>...</td>\n      <td>...</td>\n      <td>...</td>\n      <td>...</td>\n      <td>...</td>\n      <td>...</td>\n      <td>...</td>\n    </tr>\n    <tr>\n      <th>199950</th>\n      <td>201008</td>\n      <td>410 - Oakland 4</td>\n      <td>2014-04-08T12:30:00</td>\n      <td>2014-04-08T12:40:00</td>\n      <td>2014-04-08T16:30:00</td>\n      <td>24</td>\n      <td>120.50</td>\n      <td>0</td>\n      <td>0.0</td>\n    </tr>\n    <tr>\n      <th>199983</th>\n      <td>201041</td>\n      <td>407 - Oakland 1</td>\n      <td>2014-04-08T12:40:00</td>\n      <td>2014-04-08T12:50:00</td>\n      <td>2014-04-08T16:40:00</td>\n      <td>21</td>\n      <td>56.75</td>\n      <td>0</td>\n      <td>0.0</td>\n    </tr>\n    <tr>\n      <th>199984</th>\n      <td>201042</td>\n      <td>408 - Oakland 2</td>\n      <td>2014-04-08T12:40:00</td>\n      <td>2014-04-08T12:50:00</td>\n      <td>2014-04-08T16:40:00</td>\n      <td>45</td>\n      <td>173.50</td>\n      <td>0</td>\n      <td>0.0</td>\n    </tr>\n    <tr>\n      <th>199985</th>\n      <td>201043</td>\n      <td>409 - Oakland 3</td>\n      <td>2014-04-08T12:40:00</td>\n      <td>2014-04-08T12:50:00</td>\n      <td>2014-04-08T16:40:00</td>\n      <td>38</td>\n      <td>122.50</td>\n      <td>0</td>\n      <td>0.0</td>\n    </tr>\n    <tr>\n      <th>199986</th>\n      <td>201044</td>\n      <td>410 - Oakland 4</td>\n      <td>2014-04-08T12:40:00</td>\n      <td>2014-04-08T12:50:00</td>\n      <td>2014-04-08T16:40:00</td>\n      <td>31</td>\n      <td>125.29</td>\n      <td>0</td>\n      <td>0.0</td>\n    </tr>\n  </tbody>\n</table>\n<p>25443 rows × 9 columns</p>\n</div>"
     },
     "metadata": {},
     "execution_count": 36
    }
   ],
   "source": [
    "oakland = full_sample[full_sample[\"zone\"].str.contains(\"Oakland\")]\n",
    "oakland"
   ]
  },
  {
   "cell_type": "code",
   "execution_count": 37,
   "metadata": {},
   "outputs": [],
   "source": [
    "oakland = oakland[[\"id\",\"zone\",\"start\",\"end\",\"meter_transactions\"]]\n",
    "\n",
    "oakland[\"start\"] = pd.to_datetime(oakland[\"start\"])\n",
    "oakland[\"end\"] = pd.to_datetime(oakland[\"end\"])"
   ]
  },
  {
   "cell_type": "code",
   "execution_count": 38,
   "metadata": {},
   "outputs": [
    {
     "output_type": "execute_result",
     "data": {
      "text/plain": "           id             zone               start                 end  \\\n0        5050  407 - Oakland 1 2014-01-04 11:40:00 2014-01-04 11:50:00   \n1        5050  407 - Oakland 1 2014-01-04 11:40:00 2014-01-04 11:50:00   \n2        5084  407 - Oakland 1 2014-01-04 11:50:00 2014-01-04 12:00:00   \n3        5084  407 - Oakland 1 2014-01-04 11:50:00 2014-01-04 12:00:00   \n4        5119  407 - Oakland 1 2014-01-04 12:00:00 2014-01-04 12:10:00   \n...       ...              ...                 ...                 ...   \n50881  200973  410 - Oakland 4 2014-04-08 12:20:00 2014-04-08 12:30:00   \n50882  201008  410 - Oakland 4 2014-04-08 12:30:00 2014-04-08 12:40:00   \n50883  201008  410 - Oakland 4 2014-04-08 12:30:00 2014-04-08 12:40:00   \n50884  201044  410 - Oakland 4 2014-04-08 12:40:00 2014-04-08 12:50:00   \n50885  201044  410 - Oakland 4 2014-04-08 12:40:00 2014-04-08 12:50:00   \n\n       meter_transactions       as_of  spaces  rate rate_description  meters  \\\n0                       9  2017-03-06     220   3.0         $3.00/HR    31.0   \n1                       9  2018-01-19     227   3.0         $3.00/HR    30.0   \n2                      13  2017-03-06     220   3.0         $3.00/HR    31.0   \n3                      13  2018-01-19     227   3.0         $3.00/HR    30.0   \n4                      15  2017-03-06     220   3.0         $3.00/HR    31.0   \n...                   ...         ...     ...   ...              ...     ...   \n50881                  36  2018-01-19     572   3.0         $3.00/HR    45.0   \n50882                  24  2017-03-06     570   3.0         $3.00/HR    46.0   \n50883                  24  2018-01-19     572   3.0         $3.00/HR    45.0   \n50884                  31  2017-03-06     570   3.0         $3.00/HR    46.0   \n50885                  31  2018-01-19     572   3.0         $3.00/HR    45.0   \n\n            type  \n0      on-street  \n1      on-street  \n2      on-street  \n3      on-street  \n4      on-street  \n...          ...  \n50881  on-street  \n50882  on-street  \n50883  on-street  \n50884  on-street  \n50885  on-street  \n\n[50886 rows x 11 columns]",
      "text/html": "<div>\n<style scoped>\n    .dataframe tbody tr th:only-of-type {\n        vertical-align: middle;\n    }\n\n    .dataframe tbody tr th {\n        vertical-align: top;\n    }\n\n    .dataframe thead th {\n        text-align: right;\n    }\n</style>\n<table border=\"1\" class=\"dataframe\">\n  <thead>\n    <tr style=\"text-align: right;\">\n      <th></th>\n      <th>id</th>\n      <th>zone</th>\n      <th>start</th>\n      <th>end</th>\n      <th>meter_transactions</th>\n      <th>as_of</th>\n      <th>spaces</th>\n      <th>rate</th>\n      <th>rate_description</th>\n      <th>meters</th>\n      <th>type</th>\n    </tr>\n  </thead>\n  <tbody>\n    <tr>\n      <th>0</th>\n      <td>5050</td>\n      <td>407 - Oakland 1</td>\n      <td>2014-01-04 11:40:00</td>\n      <td>2014-01-04 11:50:00</td>\n      <td>9</td>\n      <td>2017-03-06</td>\n      <td>220</td>\n      <td>3.0</td>\n      <td>$3.00/HR</td>\n      <td>31.0</td>\n      <td>on-street</td>\n    </tr>\n    <tr>\n      <th>1</th>\n      <td>5050</td>\n      <td>407 - Oakland 1</td>\n      <td>2014-01-04 11:40:00</td>\n      <td>2014-01-04 11:50:00</td>\n      <td>9</td>\n      <td>2018-01-19</td>\n      <td>227</td>\n      <td>3.0</td>\n      <td>$3.00/HR</td>\n      <td>30.0</td>\n      <td>on-street</td>\n    </tr>\n    <tr>\n      <th>2</th>\n      <td>5084</td>\n      <td>407 - Oakland 1</td>\n      <td>2014-01-04 11:50:00</td>\n      <td>2014-01-04 12:00:00</td>\n      <td>13</td>\n      <td>2017-03-06</td>\n      <td>220</td>\n      <td>3.0</td>\n      <td>$3.00/HR</td>\n      <td>31.0</td>\n      <td>on-street</td>\n    </tr>\n    <tr>\n      <th>3</th>\n      <td>5084</td>\n      <td>407 - Oakland 1</td>\n      <td>2014-01-04 11:50:00</td>\n      <td>2014-01-04 12:00:00</td>\n      <td>13</td>\n      <td>2018-01-19</td>\n      <td>227</td>\n      <td>3.0</td>\n      <td>$3.00/HR</td>\n      <td>30.0</td>\n      <td>on-street</td>\n    </tr>\n    <tr>\n      <th>4</th>\n      <td>5119</td>\n      <td>407 - Oakland 1</td>\n      <td>2014-01-04 12:00:00</td>\n      <td>2014-01-04 12:10:00</td>\n      <td>15</td>\n      <td>2017-03-06</td>\n      <td>220</td>\n      <td>3.0</td>\n      <td>$3.00/HR</td>\n      <td>31.0</td>\n      <td>on-street</td>\n    </tr>\n    <tr>\n      <th>...</th>\n      <td>...</td>\n      <td>...</td>\n      <td>...</td>\n      <td>...</td>\n      <td>...</td>\n      <td>...</td>\n      <td>...</td>\n      <td>...</td>\n      <td>...</td>\n      <td>...</td>\n      <td>...</td>\n    </tr>\n    <tr>\n      <th>50881</th>\n      <td>200973</td>\n      <td>410 - Oakland 4</td>\n      <td>2014-04-08 12:20:00</td>\n      <td>2014-04-08 12:30:00</td>\n      <td>36</td>\n      <td>2018-01-19</td>\n      <td>572</td>\n      <td>3.0</td>\n      <td>$3.00/HR</td>\n      <td>45.0</td>\n      <td>on-street</td>\n    </tr>\n    <tr>\n      <th>50882</th>\n      <td>201008</td>\n      <td>410 - Oakland 4</td>\n      <td>2014-04-08 12:30:00</td>\n      <td>2014-04-08 12:40:00</td>\n      <td>24</td>\n      <td>2017-03-06</td>\n      <td>570</td>\n      <td>3.0</td>\n      <td>$3.00/HR</td>\n      <td>46.0</td>\n      <td>on-street</td>\n    </tr>\n    <tr>\n      <th>50883</th>\n      <td>201008</td>\n      <td>410 - Oakland 4</td>\n      <td>2014-04-08 12:30:00</td>\n      <td>2014-04-08 12:40:00</td>\n      <td>24</td>\n      <td>2018-01-19</td>\n      <td>572</td>\n      <td>3.0</td>\n      <td>$3.00/HR</td>\n      <td>45.0</td>\n      <td>on-street</td>\n    </tr>\n    <tr>\n      <th>50884</th>\n      <td>201044</td>\n      <td>410 - Oakland 4</td>\n      <td>2014-04-08 12:40:00</td>\n      <td>2014-04-08 12:50:00</td>\n      <td>31</td>\n      <td>2017-03-06</td>\n      <td>570</td>\n      <td>3.0</td>\n      <td>$3.00/HR</td>\n      <td>46.0</td>\n      <td>on-street</td>\n    </tr>\n    <tr>\n      <th>50885</th>\n      <td>201044</td>\n      <td>410 - Oakland 4</td>\n      <td>2014-04-08 12:40:00</td>\n      <td>2014-04-08 12:50:00</td>\n      <td>31</td>\n      <td>2018-01-19</td>\n      <td>572</td>\n      <td>3.0</td>\n      <td>$3.00/HR</td>\n      <td>45.0</td>\n      <td>on-street</td>\n    </tr>\n  </tbody>\n</table>\n<p>50886 rows × 11 columns</p>\n</div>"
     },
     "metadata": {},
     "execution_count": 38
    }
   ],
   "source": [
    "zones = pd.read_csv(\"zones.csv\")\n",
    "\n",
    "oakland = pd.merge(oakland, zones, on='zone')\n",
    "\n",
    "oakland"
   ]
  },
  {
   "cell_type": "code",
   "execution_count": 39,
   "metadata": {},
   "outputs": [
    {
     "output_type": "execute_result",
     "data": {
      "text/plain": "           id             zone               start                 end  \\\n0        5050  407 - Oakland 1 2014-01-04 11:40:00 2014-01-04 11:50:00   \n1        5050  407 - Oakland 1 2014-01-04 11:40:00 2014-01-04 11:50:00   \n2        5084  407 - Oakland 1 2014-01-04 11:50:00 2014-01-04 12:00:00   \n3        5084  407 - Oakland 1 2014-01-04 11:50:00 2014-01-04 12:00:00   \n4        5119  407 - Oakland 1 2014-01-04 12:00:00 2014-01-04 12:10:00   \n...       ...              ...                 ...                 ...   \n50881  200973  410 - Oakland 4 2014-04-08 12:20:00 2014-04-08 12:30:00   \n50882  201008  410 - Oakland 4 2014-04-08 12:30:00 2014-04-08 12:40:00   \n50883  201008  410 - Oakland 4 2014-04-08 12:30:00 2014-04-08 12:40:00   \n50884  201044  410 - Oakland 4 2014-04-08 12:40:00 2014-04-08 12:50:00   \n50885  201044  410 - Oakland 4 2014-04-08 12:40:00 2014-04-08 12:50:00   \n\n       meter_transactions       as_of  spaces  rate rate_description  meters  \\\n0                       9  2017-03-06     220   3.0         $3.00/HR    31.0   \n1                       9  2018-01-19     227   3.0         $3.00/HR    30.0   \n2                      13  2017-03-06     220   3.0         $3.00/HR    31.0   \n3                      13  2018-01-19     227   3.0         $3.00/HR    30.0   \n4                      15  2017-03-06     220   3.0         $3.00/HR    31.0   \n...                   ...         ...     ...   ...              ...     ...   \n50881                  36  2018-01-19     572   3.0         $3.00/HR    45.0   \n50882                  24  2017-03-06     570   3.0         $3.00/HR    46.0   \n50883                  24  2018-01-19     572   3.0         $3.00/HR    45.0   \n50884                  31  2017-03-06     570   3.0         $3.00/HR    46.0   \n50885                  31  2018-01-19     572   3.0         $3.00/HR    45.0   \n\n            type  free_spaces  \n0      on-street          211  \n1      on-street          218  \n2      on-street          207  \n3      on-street          214  \n4      on-street          205  \n...          ...          ...  \n50881  on-street          536  \n50882  on-street          546  \n50883  on-street          548  \n50884  on-street          539  \n50885  on-street          541  \n\n[50886 rows x 12 columns]",
      "text/html": "<div>\n<style scoped>\n    .dataframe tbody tr th:only-of-type {\n        vertical-align: middle;\n    }\n\n    .dataframe tbody tr th {\n        vertical-align: top;\n    }\n\n    .dataframe thead th {\n        text-align: right;\n    }\n</style>\n<table border=\"1\" class=\"dataframe\">\n  <thead>\n    <tr style=\"text-align: right;\">\n      <th></th>\n      <th>id</th>\n      <th>zone</th>\n      <th>start</th>\n      <th>end</th>\n      <th>meter_transactions</th>\n      <th>as_of</th>\n      <th>spaces</th>\n      <th>rate</th>\n      <th>rate_description</th>\n      <th>meters</th>\n      <th>type</th>\n      <th>free_spaces</th>\n    </tr>\n  </thead>\n  <tbody>\n    <tr>\n      <th>0</th>\n      <td>5050</td>\n      <td>407 - Oakland 1</td>\n      <td>2014-01-04 11:40:00</td>\n      <td>2014-01-04 11:50:00</td>\n      <td>9</td>\n      <td>2017-03-06</td>\n      <td>220</td>\n      <td>3.0</td>\n      <td>$3.00/HR</td>\n      <td>31.0</td>\n      <td>on-street</td>\n      <td>211</td>\n    </tr>\n    <tr>\n      <th>1</th>\n      <td>5050</td>\n      <td>407 - Oakland 1</td>\n      <td>2014-01-04 11:40:00</td>\n      <td>2014-01-04 11:50:00</td>\n      <td>9</td>\n      <td>2018-01-19</td>\n      <td>227</td>\n      <td>3.0</td>\n      <td>$3.00/HR</td>\n      <td>30.0</td>\n      <td>on-street</td>\n      <td>218</td>\n    </tr>\n    <tr>\n      <th>2</th>\n      <td>5084</td>\n      <td>407 - Oakland 1</td>\n      <td>2014-01-04 11:50:00</td>\n      <td>2014-01-04 12:00:00</td>\n      <td>13</td>\n      <td>2017-03-06</td>\n      <td>220</td>\n      <td>3.0</td>\n      <td>$3.00/HR</td>\n      <td>31.0</td>\n      <td>on-street</td>\n      <td>207</td>\n    </tr>\n    <tr>\n      <th>3</th>\n      <td>5084</td>\n      <td>407 - Oakland 1</td>\n      <td>2014-01-04 11:50:00</td>\n      <td>2014-01-04 12:00:00</td>\n      <td>13</td>\n      <td>2018-01-19</td>\n      <td>227</td>\n      <td>3.0</td>\n      <td>$3.00/HR</td>\n      <td>30.0</td>\n      <td>on-street</td>\n      <td>214</td>\n    </tr>\n    <tr>\n      <th>4</th>\n      <td>5119</td>\n      <td>407 - Oakland 1</td>\n      <td>2014-01-04 12:00:00</td>\n      <td>2014-01-04 12:10:00</td>\n      <td>15</td>\n      <td>2017-03-06</td>\n      <td>220</td>\n      <td>3.0</td>\n      <td>$3.00/HR</td>\n      <td>31.0</td>\n      <td>on-street</td>\n      <td>205</td>\n    </tr>\n    <tr>\n      <th>...</th>\n      <td>...</td>\n      <td>...</td>\n      <td>...</td>\n      <td>...</td>\n      <td>...</td>\n      <td>...</td>\n      <td>...</td>\n      <td>...</td>\n      <td>...</td>\n      <td>...</td>\n      <td>...</td>\n      <td>...</td>\n    </tr>\n    <tr>\n      <th>50881</th>\n      <td>200973</td>\n      <td>410 - Oakland 4</td>\n      <td>2014-04-08 12:20:00</td>\n      <td>2014-04-08 12:30:00</td>\n      <td>36</td>\n      <td>2018-01-19</td>\n      <td>572</td>\n      <td>3.0</td>\n      <td>$3.00/HR</td>\n      <td>45.0</td>\n      <td>on-street</td>\n      <td>536</td>\n    </tr>\n    <tr>\n      <th>50882</th>\n      <td>201008</td>\n      <td>410 - Oakland 4</td>\n      <td>2014-04-08 12:30:00</td>\n      <td>2014-04-08 12:40:00</td>\n      <td>24</td>\n      <td>2017-03-06</td>\n      <td>570</td>\n      <td>3.0</td>\n      <td>$3.00/HR</td>\n      <td>46.0</td>\n      <td>on-street</td>\n      <td>546</td>\n    </tr>\n    <tr>\n      <th>50883</th>\n      <td>201008</td>\n      <td>410 - Oakland 4</td>\n      <td>2014-04-08 12:30:00</td>\n      <td>2014-04-08 12:40:00</td>\n      <td>24</td>\n      <td>2018-01-19</td>\n      <td>572</td>\n      <td>3.0</td>\n      <td>$3.00/HR</td>\n      <td>45.0</td>\n      <td>on-street</td>\n      <td>548</td>\n    </tr>\n    <tr>\n      <th>50884</th>\n      <td>201044</td>\n      <td>410 - Oakland 4</td>\n      <td>2014-04-08 12:40:00</td>\n      <td>2014-04-08 12:50:00</td>\n      <td>31</td>\n      <td>2017-03-06</td>\n      <td>570</td>\n      <td>3.0</td>\n      <td>$3.00/HR</td>\n      <td>46.0</td>\n      <td>on-street</td>\n      <td>539</td>\n    </tr>\n    <tr>\n      <th>50885</th>\n      <td>201044</td>\n      <td>410 - Oakland 4</td>\n      <td>2014-04-08 12:40:00</td>\n      <td>2014-04-08 12:50:00</td>\n      <td>31</td>\n      <td>2018-01-19</td>\n      <td>572</td>\n      <td>3.0</td>\n      <td>$3.00/HR</td>\n      <td>45.0</td>\n      <td>on-street</td>\n      <td>541</td>\n    </tr>\n  </tbody>\n</table>\n<p>50886 rows × 12 columns</p>\n</div>"
     },
     "metadata": {},
     "execution_count": 39
    }
   ],
   "source": [
    "oakland[\"free_spaces\"] = oakland[\"spaces\"] - oakland[\"meter_transactions\"]\n",
    "\n",
    "oakland"
   ]
  },
  {
   "cell_type": "code",
   "execution_count": 43,
   "metadata": {
    "tags": []
   },
   "outputs": [],
   "source": [
    "oakland[\"transaction_hour\"] = oakland[\"start\"].dt.hour\n"
   ]
  },
  {
   "cell_type": "code",
   "execution_count": 44,
   "metadata": {},
   "outputs": [
    {
     "output_type": "execute_result",
     "data": {
      "text/plain": "           id             zone               start                 end  \\\n0        5050  407 - Oakland 1 2014-01-04 11:40:00 2014-01-04 11:50:00   \n1        5050  407 - Oakland 1 2014-01-04 11:40:00 2014-01-04 11:50:00   \n2        5084  407 - Oakland 1 2014-01-04 11:50:00 2014-01-04 12:00:00   \n3        5084  407 - Oakland 1 2014-01-04 11:50:00 2014-01-04 12:00:00   \n4        5119  407 - Oakland 1 2014-01-04 12:00:00 2014-01-04 12:10:00   \n...       ...              ...                 ...                 ...   \n50881  200973  410 - Oakland 4 2014-04-08 12:20:00 2014-04-08 12:30:00   \n50882  201008  410 - Oakland 4 2014-04-08 12:30:00 2014-04-08 12:40:00   \n50883  201008  410 - Oakland 4 2014-04-08 12:30:00 2014-04-08 12:40:00   \n50884  201044  410 - Oakland 4 2014-04-08 12:40:00 2014-04-08 12:50:00   \n50885  201044  410 - Oakland 4 2014-04-08 12:40:00 2014-04-08 12:50:00   \n\n       meter_transactions  spaces  rate       type  free_spaces  \n0                       9     220   3.0  on-street          211  \n1                       9     227   3.0  on-street          218  \n2                      13     220   3.0  on-street          207  \n3                      13     227   3.0  on-street          214  \n4                      15     220   3.0  on-street          205  \n...                   ...     ...   ...        ...          ...  \n50881                  36     572   3.0  on-street          536  \n50882                  24     570   3.0  on-street          546  \n50883                  24     572   3.0  on-street          548  \n50884                  31     570   3.0  on-street          539  \n50885                  31     572   3.0  on-street          541  \n\n[50886 rows x 9 columns]",
      "text/html": "<div>\n<style scoped>\n    .dataframe tbody tr th:only-of-type {\n        vertical-align: middle;\n    }\n\n    .dataframe tbody tr th {\n        vertical-align: top;\n    }\n\n    .dataframe thead th {\n        text-align: right;\n    }\n</style>\n<table border=\"1\" class=\"dataframe\">\n  <thead>\n    <tr style=\"text-align: right;\">\n      <th></th>\n      <th>id</th>\n      <th>zone</th>\n      <th>start</th>\n      <th>end</th>\n      <th>meter_transactions</th>\n      <th>spaces</th>\n      <th>rate</th>\n      <th>type</th>\n      <th>free_spaces</th>\n    </tr>\n  </thead>\n  <tbody>\n    <tr>\n      <th>0</th>\n      <td>5050</td>\n      <td>407 - Oakland 1</td>\n      <td>2014-01-04 11:40:00</td>\n      <td>2014-01-04 11:50:00</td>\n      <td>9</td>\n      <td>220</td>\n      <td>3.0</td>\n      <td>on-street</td>\n      <td>211</td>\n    </tr>\n    <tr>\n      <th>1</th>\n      <td>5050</td>\n      <td>407 - Oakland 1</td>\n      <td>2014-01-04 11:40:00</td>\n      <td>2014-01-04 11:50:00</td>\n      <td>9</td>\n      <td>227</td>\n      <td>3.0</td>\n      <td>on-street</td>\n      <td>218</td>\n    </tr>\n    <tr>\n      <th>2</th>\n      <td>5084</td>\n      <td>407 - Oakland 1</td>\n      <td>2014-01-04 11:50:00</td>\n      <td>2014-01-04 12:00:00</td>\n      <td>13</td>\n      <td>220</td>\n      <td>3.0</td>\n      <td>on-street</td>\n      <td>207</td>\n    </tr>\n    <tr>\n      <th>3</th>\n      <td>5084</td>\n      <td>407 - Oakland 1</td>\n      <td>2014-01-04 11:50:00</td>\n      <td>2014-01-04 12:00:00</td>\n      <td>13</td>\n      <td>227</td>\n      <td>3.0</td>\n      <td>on-street</td>\n      <td>214</td>\n    </tr>\n    <tr>\n      <th>4</th>\n      <td>5119</td>\n      <td>407 - Oakland 1</td>\n      <td>2014-01-04 12:00:00</td>\n      <td>2014-01-04 12:10:00</td>\n      <td>15</td>\n      <td>220</td>\n      <td>3.0</td>\n      <td>on-street</td>\n      <td>205</td>\n    </tr>\n    <tr>\n      <th>...</th>\n      <td>...</td>\n      <td>...</td>\n      <td>...</td>\n      <td>...</td>\n      <td>...</td>\n      <td>...</td>\n      <td>...</td>\n      <td>...</td>\n      <td>...</td>\n    </tr>\n    <tr>\n      <th>50881</th>\n      <td>200973</td>\n      <td>410 - Oakland 4</td>\n      <td>2014-04-08 12:20:00</td>\n      <td>2014-04-08 12:30:00</td>\n      <td>36</td>\n      <td>572</td>\n      <td>3.0</td>\n      <td>on-street</td>\n      <td>536</td>\n    </tr>\n    <tr>\n      <th>50882</th>\n      <td>201008</td>\n      <td>410 - Oakland 4</td>\n      <td>2014-04-08 12:30:00</td>\n      <td>2014-04-08 12:40:00</td>\n      <td>24</td>\n      <td>570</td>\n      <td>3.0</td>\n      <td>on-street</td>\n      <td>546</td>\n    </tr>\n    <tr>\n      <th>50883</th>\n      <td>201008</td>\n      <td>410 - Oakland 4</td>\n      <td>2014-04-08 12:30:00</td>\n      <td>2014-04-08 12:40:00</td>\n      <td>24</td>\n      <td>572</td>\n      <td>3.0</td>\n      <td>on-street</td>\n      <td>548</td>\n    </tr>\n    <tr>\n      <th>50884</th>\n      <td>201044</td>\n      <td>410 - Oakland 4</td>\n      <td>2014-04-08 12:40:00</td>\n      <td>2014-04-08 12:50:00</td>\n      <td>31</td>\n      <td>570</td>\n      <td>3.0</td>\n      <td>on-street</td>\n      <td>539</td>\n    </tr>\n    <tr>\n      <th>50885</th>\n      <td>201044</td>\n      <td>410 - Oakland 4</td>\n      <td>2014-04-08 12:40:00</td>\n      <td>2014-04-08 12:50:00</td>\n      <td>31</td>\n      <td>572</td>\n      <td>3.0</td>\n      <td>on-street</td>\n      <td>541</td>\n    </tr>\n  </tbody>\n</table>\n<p>50886 rows × 9 columns</p>\n</div>"
     },
     "metadata": {},
     "execution_count": 44
    }
   ],
   "source": [
    "oakland = oakland[[\"id\",\"zone\",\t\"start\", \"end\",\t\"transaction_hour\",\"meter_transactions\", \"spaces\",\t\"rate\",\t\"type\",\t\"free_spaces\"]]\n",
    "oakland"
   ]
  },
  {
   "cell_type": "code",
   "execution_count": 42,
   "metadata": {},
   "outputs": [],
   "source": [
    "oakland.to_csv(\"oakland.csv\")"
   ]
  },
  {
   "cell_type": "code",
   "execution_count": null,
   "metadata": {},
   "outputs": [],
   "source": []
  }
 ]
}